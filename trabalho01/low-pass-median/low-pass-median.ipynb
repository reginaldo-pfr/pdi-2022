{
 "cells": [
  {
   "cell_type": "code",
   "execution_count": 1,
   "id": "167277f4-711f-4179-b053-89ea506afad8",
   "metadata": {},
   "outputs": [],
   "source": [
    "#pip install ypstruct"
   ]
  },
  {
   "cell_type": "code",
   "execution_count": 2,
   "id": "d9ea0692-c594-4c17-945d-5ffbcbf9ab16",
   "metadata": {},
   "outputs": [],
   "source": [
    "import cv2\n",
    "import numpy as np\n",
    "import matplotlib.pyplot as plt\n",
    "import math as m\n",
    "#from ypstruct import struct"
   ]
  },
  {
   "cell_type": "code",
   "execution_count": 3,
   "id": "cc285cf6-1e4e-4774-9c9b-146b352b3cc1",
   "metadata": {},
   "outputs": [],
   "source": [
    "''' Esta classe permite armazenar uma quantidade arbitrária de variáveis \n",
    "    como atributos, semelhante ao tipo struct do matlab \n",
    "    Também existe a classe ypstruct do pacote struct, mas a class a baixo se mostra\n",
    "        muito rápida na iteração entre os vetores'''\n",
    "class structtype():\n",
    "    pass"
   ]
  },
  {
   "cell_type": "code",
   "execution_count": 4,
   "id": "0b3382aa-a647-4fd3-9851-8754c54e88b9",
   "metadata": {},
   "outputs": [],
   "source": [
    "img = cv2.imread('figs/lena.png',cv2.IMREAD_GRAYSCALE)"
   ]
  },
  {
   "cell_type": "code",
   "execution_count": 5,
   "id": "8f3cee89-4063-467f-8e6b-59a43c24706f",
   "metadata": {},
   "outputs": [],
   "source": [
    "def convertVarFeat(img):\n",
    "    data = structtype()\n",
    "    data.img = np.array(img)\n",
    "    data.imgSize = structtype()\n",
    "    data.imgSize.lin, data.imgSize.col = data.img.shape\n",
    "    \n",
    "    return data"
   ]
  },
  {
   "cell_type": "code",
   "execution_count": null,
   "id": "3e20694c-8578-4383-9402-1486440a7eb0",
   "metadata": {},
   "outputs": [],
   "source": [
    "def filterMedian(dados):\n",
    "    dt = dados.img\n",
    "\n",
    "    size = structtype()\n",
    "    size.dt = structtype()\n",
    "    size.dt.lin, size.dt.col = dt.shape\n",
    "\n",
    "    dados.kernel = np.ones((dados.kernelSize, dados.kernelSize))\n",
    "    central = m.floor((dados.kernelSize / 2))\n",
    "    C = np.zeros((size.dt.lin + central * 2, size.dt.col + central * 2))\n",
    "    C[(0 + central):(size.dt.lin + central), (0 + central):(size.dt.col + central)] = dt\n",
    "    \n",
    "    buffer = np.zeros((dados.kernelSize * dados.kernelSize))\n",
    "    D = np.zeros(dt.shape)\n",
    "    \n",
    "    for j in range((0), size.dt.lin):\n",
    "        for k in range((0), size.dt.col):\n",
    "            # Run kernel in one matrix's elements\n",
    "            for kl in range(0, dados.kernelSize):\n",
    "                for kk in range(0, dados.kernelSize):\n",
    "                    buffer[(dados.kernelSize * kl + kk)] = (C[j + kl, k + kk])\n",
    "            buffer = np.sort(buffer)\n",
    "            value = buffer[int(np.floor((dados.kernelSize**2)/2))]\n",
    "            D[j, k] = value\n",
    "    D = np.uint8(D)\n",
    "\n",
    "    return D"
   ]
  },
  {
   "cell_type": "code",
   "execution_count": null,
   "id": "37c99a1e-0d50-4840-9af3-3e00d1ca561f",
   "metadata": {},
   "outputs": [],
   "source": [
    "dados = convertVarFeat(img)\n",
    "\n",
    "# Parâmetros para o Filtro da média\n",
    "# Kernel def:\n",
    "dados.kernelSize = 3\n",
    "\n",
    "# Número de aplicações do filtro\n",
    "numAp = 1;\n",
    "\n",
    "# Variável auxiliar para guardar a saída\n",
    "U = np.zeros((numAp, dados.imgSize.lin, dados.imgSize.col))"
   ]
  },
  {
   "cell_type": "code",
   "execution_count": null,
   "id": "98c93d44-4e31-447f-adec-10e6f3d0fa38",
   "metadata": {},
   "outputs": [],
   "source": [
    "for k in range(0, numAp):\n",
    "    if k == 0:\n",
    "        U[k,:,:] = filterMedian(dados)\n",
    "        #print(U[k,:,:])\n",
    "    else:\n",
    "        dados.img = U[k-1,:,:]\n",
    "        U[k,:,:] = filterMedian(dados)\n",
    "        #print(U[k,:,:])"
   ]
  },
  {
   "cell_type": "code",
   "execution_count": null,
   "id": "949da7c8-372e-4003-af9a-be66c684652d",
   "metadata": {},
   "outputs": [],
   "source": [
    "fig = plt.figure()\n",
    "ax = fig.add_subplot(1, 2, 1)\n",
    "imgplot = plt.imshow(img, 'gray')\n",
    "ax.set_title('Original')\n",
    "\n",
    "ax = fig.add_subplot(1, 2, 2)\n",
    "imgplot = plt.imshow(U[(numAp - 1),:,:], 'gray')\n",
    "ax.set_title(f'Filtro da Mediana k={dados.kernelSize}x{dados.kernelSize}:{numAp}x')"
   ]
  },
  {
   "cell_type": "code",
   "execution_count": null,
   "id": "fabb3627-33ac-4649-9d58-d0cf39522434",
   "metadata": {},
   "outputs": [],
   "source": [
    "sImg1 = np.array(U[(numAp - 1),:,:])\n",
    "cv2.imwrite(f\"output/median_output_kernel_{dados.kernelSize}_aplicado_{numAp}x.png\", sImg1)"
   ]
  },
  {
   "cell_type": "code",
   "execution_count": null,
   "id": "0b8107b0-26e4-43d6-975f-43e4e690d3dc",
   "metadata": {
    "tags": []
   },
   "outputs": [],
   "source": [
    "imagens = list()\n",
    "kernels = list()\n",
    "for i in range(3,19,2):\n",
    "    dados.kernelSize = i\n",
    "    kernels.append(dados.kernelSize)\n",
    "    U = np.zeros((numAp, dados.imgSize.lin, dados.imgSize.col))\n",
    "    for k in range(0, numAp):\n",
    "        if k == 0:\n",
    "            U[k,:,:] = filterMedian(dados)\n",
    "        else:\n",
    "            dados.img = U[k-1,:,:]\n",
    "            U[k,:,:] = filterMedian(dados)\n",
    "    imagens.append(U[(numAp - 1),:,:])\n",
    "\n",
    "for i in range(len(imagens)):\n",
    "    plt.figure()\n",
    "    plt.imshow(imagens[i], 'gray')\n",
    "    plt.title(f\"Kernel {kernels[i]}X{kernels[i]}\")\n",
    "    plt.show()\n",
    "    \n",
    "    sImgX = np.array(imagens[i])\n",
    "    cv2.imwrite(f\"output/median_output_kernel_{kernels[i]}x{kernels[i]}_aplicado_{numAp}x.png\", sImgX)"
   ]
  },
  {
   "cell_type": "code",
   "execution_count": null,
   "id": "c26d5023-5836-47bf-be17-1ca8edae9485",
   "metadata": {},
   "outputs": [],
   "source": [
    "kernelMean = np.ones((3,3))\n",
    "print(\"Kernel para filtro da média:\")\n",
    "print(kernelMean)\n",
    "\n",
    "kernelMedian = np.ones((3,3))\n",
    "print(\"Kernel para filtro da mediana:\")\n",
    "print(kernelMedian)"
   ]
  },
  {
   "cell_type": "code",
   "execution_count": null,
   "id": "6aa13e14-c6a8-40d4-a99b-d1cd7cf647b6",
   "metadata": {},
   "outputs": [],
   "source": [
    "vizPixel = np.array([[150, 13, 200],[20, 27, 39],[50, 80, 90]])\n",
    "print(\"Vizinhança ao redor do pixel de valor 27\")\n",
    "print(vizPixel)"
   ]
  },
  {
   "cell_type": "code",
   "execution_count": null,
   "id": "f433d733-738e-4795-87c5-98cb0d3df878",
   "metadata": {},
   "outputs": [],
   "source": [
    "print(\"Valor do novo pixel submetido ao filtro da média:\")\n",
    "print(int(np.sum((vizPixel*kernelMean))/9))\n",
    "\n",
    "print(\"Valor do novo pixel submetido ao filtro da mediana:\")\n",
    "buffer = np.sort(np.ravel(vizPixel*kernelMean))\n",
    "int(buffer[int(np.floor(9/2))])"
   ]
  },
  {
   "cell_type": "code",
   "execution_count": null,
   "id": "5d1e15a4-6255-458c-aad3-4245593c0b45",
   "metadata": {},
   "outputs": [],
   "source": [
    "img2 = cv2.imread('figs/ckt_board_saltpep_prob_pt05.tif',cv2.IMREAD_GRAYSCALE)"
   ]
  },
  {
   "cell_type": "code",
   "execution_count": null,
   "id": "9b939cf7-ceaf-4fa4-848d-06a8a5e711da",
   "metadata": {},
   "outputs": [],
   "source": [
    "dados = convertVarFeat(img2)\n",
    "dados.kernelSize = 3\n",
    "numAp = 5;\n",
    "U = np.zeros((numAp, dados.imgSize.lin, dados.imgSize.col))\n",
    "\n",
    "for k in range(0, numAp):\n",
    "    if k == 0:\n",
    "        U[k,:,:] = filterMedian(dados)\n",
    "    else:\n",
    "        dados.img = U[k-1,:,:]\n",
    "        U[k,:,:] = filterMedian(dados)\n",
    "        \n",
    "fig = plt.figure()\n",
    "ax = fig.add_subplot(1, 2, 1)\n",
    "imgplot = plt.imshow(img2, 'gray')\n",
    "ax.set_title('Original')\n",
    "\n",
    "ax = fig.add_subplot(1, 2, 2)\n",
    "imgplot = plt.imshow(U[(numAp - 1),:,:], 'gray')\n",
    "ax.set_title(f'Filtro da Mediana k={dados.kernelSize}x{dados.kernelSize}:{numAp}x')"
   ]
  },
  {
   "cell_type": "code",
   "execution_count": null,
   "id": "d0ab2cfe-589c-44bf-bd09-43e19f24b550",
   "metadata": {},
   "outputs": [],
   "source": [
    "sImg2 = np.array(U[(numAp - 1),:,:])\n",
    "cv2.imwrite(f\"output/median_output_kernel_{dados.kernelSize}x{dados.kernelSize}_aplicado_{numAp}x.png\", sImg2)"
   ]
  },
  {
   "cell_type": "code",
   "execution_count": null,
   "id": "820d32e5-28d0-4804-b6e3-72cd689ead83",
   "metadata": {},
   "outputs": [],
   "source": [
    "img3 = cv2.imread('figs/test_pattern_blurring_orig.tif',cv2.IMREAD_GRAYSCALE)"
   ]
  },
  {
   "cell_type": "code",
   "execution_count": null,
   "id": "e47a6108-998f-4c5b-ad98-5fa27642c4a8",
   "metadata": {},
   "outputs": [],
   "source": [
    "dados = convertVarFeat(img3)\n",
    "dados.kernelSize = 3\n",
    "numAp = 50;\n",
    "U = np.zeros((numAp, dados.imgSize.lin, dados.imgSize.col))\n",
    "\n",
    "for k in range(0, numAp):\n",
    "    if k == 0:\n",
    "        U[k,:,:] = filterMedian(dados)\n",
    "    else:\n",
    "        dados.img = U[k-1,:,:]\n",
    "        U[k,:,:] = filterMedian(dados)\n",
    "        \n",
    "fig = plt.figure()\n",
    "ax = fig.add_subplot(1, 2, 1)\n",
    "imgplot = plt.imshow(img3, 'gray')\n",
    "ax.set_title('Original')\n",
    "\n",
    "ax = fig.add_subplot(1, 2, 2)\n",
    "imgplot = plt.imshow(U[(numAp - 1),:,:], 'gray')\n",
    "ax.set_title(f'Filtro da Mediana k={dados.kernelSize}x{dados.kernelSize}:{numAp}x')"
   ]
  },
  {
   "cell_type": "code",
   "execution_count": null,
   "id": "e33226eb-6626-4564-a99e-d7f123a3d34d",
   "metadata": {},
   "outputs": [],
   "source": [
    "sImg3 = np.array(U[(numAp - 1),:,:])\n",
    "cv2.imwrite(f\"output/media_output_kernel_{dados.kernelSize}x{dados.kernelSize}_aplicado_{numAp}x.png\", sImg3)"
   ]
  },
  {
   "cell_type": "code",
   "execution_count": null,
   "id": "34935c9f-de73-456e-b426-2d653f732f24",
   "metadata": {},
   "outputs": [],
   "source": [
    "dados = convertVarFeat(img)\n",
    "dados.kernelSize = 3\n",
    "numAp = 50;\n",
    "U = np.zeros((numAp, dados.imgSize.lin, dados.imgSize.col))\n",
    "\n",
    "for k in range(0, numAp):\n",
    "    if k == 0:\n",
    "        U[k,:,:] = filterMedian(dados)\n",
    "    else:\n",
    "        dados.img = U[k-1,:,:]\n",
    "        U[k,:,:] = filterMedian(dados)\n",
    "        \n",
    "fig = plt.figure()\n",
    "ax = fig.add_subplot(1, 2, 1)\n",
    "imgplot = plt.imshow(img, 'gray')\n",
    "ax.set_title('Original')\n",
    "\n",
    "ax = fig.add_subplot(1, 2, 2)\n",
    "imgplot = plt.imshow(U[(numAp - 1),:,:], 'gray')\n",
    "ax.set_title(f'Filtro da Mediana k={dados.kernelSize}x{dados.kernelSize}:{numAp}x')"
   ]
  },
  {
   "cell_type": "code",
   "execution_count": null,
   "id": "9771b746-3dfe-4032-aa4c-573192edf154",
   "metadata": {},
   "outputs": [],
   "source": [
    "sImg4 = np.array(U[(numAp - 1),:,:])\n",
    "cv2.imwrite(f\"output/median_output_kernel_{dados.kernelSize}x{dados.kernelSize}_aplicado_{numAp}x-lena.png\", sImg4)"
   ]
  },
  {
   "cell_type": "code",
   "execution_count": null,
   "id": "5f766fce-5fa2-4799-8a4d-6be7c24b179e",
   "metadata": {},
   "outputs": [],
   "source": []
  }
 ],
 "metadata": {
  "kernelspec": {
   "display_name": "Python 3 (ipykernel)",
   "language": "python",
   "name": "python3"
  },
  "language_info": {
   "codemirror_mode": {
    "name": "ipython",
    "version": 3
   },
   "file_extension": ".py",
   "mimetype": "text/x-python",
   "name": "python",
   "nbconvert_exporter": "python",
   "pygments_lexer": "ipython3",
   "version": "3.9.13"
  }
 },
 "nbformat": 4,
 "nbformat_minor": 5
}
