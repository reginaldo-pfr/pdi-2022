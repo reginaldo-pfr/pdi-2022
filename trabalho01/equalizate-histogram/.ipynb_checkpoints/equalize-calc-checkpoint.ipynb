{
 "cells": [
  {
   "cell_type": "code",
   "execution_count": 1,
   "id": "167277f4-711f-4179-b053-89ea506afad8",
   "metadata": {},
   "outputs": [],
   "source": [
    "#pip install ypstruct"
   ]
  },
  {
   "cell_type": "code",
   "execution_count": 2,
   "id": "d9ea0692-c594-4c17-945d-5ffbcbf9ab16",
   "metadata": {},
   "outputs": [],
   "source": [
    "import cv2\n",
    "import numpy as np\n",
    "import matplotlib.pyplot as plt\n",
    "import math as m\n",
    "#from ypstruct import struct"
   ]
  },
  {
   "cell_type": "code",
   "execution_count": 3,
   "id": "cc285cf6-1e4e-4774-9c9b-146b352b3cc1",
   "metadata": {},
   "outputs": [],
   "source": [
    "''' Esta classe permite armazenar uma quantidade arbitrária de variáveis \n",
    "    como atributos, semelhante ao tipo struct do matlab \n",
    "    Também existe a classe ypstruct do pacote struct, mas a class a baixo se mostra\n",
    "        muito rápida na iteração entre os vetores'''\n",
    "class structtype():\n",
    "    pass"
   ]
  },
  {
   "cell_type": "code",
   "execution_count": 4,
   "id": "0b3382aa-a647-4fd3-9851-8754c54e88b9",
   "metadata": {},
   "outputs": [],
   "source": [
    "img1 = cv2.imread('figs/lena.png',cv2.IMREAD_GRAYSCALE)"
   ]
  },
  {
   "cell_type": "code",
   "execution_count": 5,
   "id": "8f3cee89-4063-467f-8e6b-59a43c24706f",
   "metadata": {},
   "outputs": [],
   "source": [
    "def convertVarFeat(img):\n",
    "    data = structtype()\n",
    "    data.img = np.array(img)\n",
    "    data.imgSize = structtype()\n",
    "    data.imgSize.lin, data.imgSize.col = data.img.shape\n",
    "    \n",
    "    return data"
   ]
  },
  {
   "cell_type": "code",
   "execution_count": 6,
   "id": "3e20694c-8578-4383-9402-1486440a7eb0",
   "metadata": {},
   "outputs": [],
   "source": [
    "def calcHistogram(dados):\n",
    "    dt = dados.img\n",
    "\n",
    "    size = structtype()\n",
    "    size.dt = structtype()\n",
    "    size.dt.lin, size.dt.col = dt.shape\n",
    "\n",
    "    if dt.dtype == 'uint8':\n",
    "        buffer = np.zeros((256))\n",
    "\n",
    "    ## Read the intire matrix element-by-element:\n",
    "    for j in range((0), size.dt.lin):\n",
    "        for k in range((0), size.dt.col):\n",
    "            buffer[(dt[j,k])] += 1\n",
    "\n",
    "    return buffer"
   ]
  },
  {
   "cell_type": "code",
   "execution_count": 16,
   "id": "0e5e58b1-314c-4ca2-9b92-83686edb6021",
   "metadata": {},
   "outputs": [],
   "source": [
    "def eqHistogram(Image):\n",
    "    dt = Image.img\n",
    "\n",
    "    size = structtype()\n",
    "    size.dt = structtype()\n",
    "    size.dt.lin, size.dt.col = dt.shape\n",
    "\n",
    "    newDt = np.zeros((size.dt.lin, size.dt.col))\n",
    "\n",
    "    for j in range((0), size.dt.lin):\n",
    "        for k in range((0), size.dt.col):\n",
    "            newDt[j, k] = np.ceil(255*(\n",
    "                         (dt[j, k] - dt.min()) /\n",
    "                         (dt.max() - dt.min())))\n",
    "\n",
    "    newImage = np.uint8(newDt)\n",
    "\n",
    "    return newImage"
   ]
  },
  {
   "cell_type": "code",
   "execution_count": 21,
   "id": "9d0248e5-1737-4373-8a60-e7601348bb20",
   "metadata": {},
   "outputs": [],
   "source": [
    "dados1 = convertVarFeat(img1)"
   ]
  },
  {
   "cell_type": "code",
   "execution_count": null,
   "id": "9e55e3cf-26a2-4742-9eb0-77efc24d9c4b",
   "metadata": {},
   "outputs": [],
   "source": [
    "newImage = eqHistogram(dados1)"
   ]
  },
  {
   "cell_type": "code",
   "execution_count": null,
   "id": "df9c47a3-e1b0-4171-a013-50e63e6ce757",
   "metadata": {},
   "outputs": [],
   "source": [
    "newHist = calcHistogram(newImage)"
   ]
  }
 ],
 "metadata": {
  "kernelspec": {
   "display_name": "Python 3 (ipykernel)",
   "language": "python",
   "name": "python3"
  },
  "language_info": {
   "codemirror_mode": {
    "name": "ipython",
    "version": 3
   },
   "file_extension": ".py",
   "mimetype": "text/x-python",
   "name": "python",
   "nbconvert_exporter": "python",
   "pygments_lexer": "ipython3",
   "version": "3.9.13"
  }
 },
 "nbformat": 4,
 "nbformat_minor": 5
}
